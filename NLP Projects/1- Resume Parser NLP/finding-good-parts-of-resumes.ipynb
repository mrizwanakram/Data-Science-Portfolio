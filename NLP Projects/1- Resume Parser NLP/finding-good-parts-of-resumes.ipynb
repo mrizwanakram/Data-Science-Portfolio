{
 "cells": [
  {
   "cell_type": "markdown",
   "metadata": {
    "_uuid": "b3dcc369b0f92b9b08d001079ba2d820144356fc"
   },
   "source": [
    "# Overview\n",
    "A quick look at resume data and how information can be reliably automatically extracted"
   ]
  },
  {
   "cell_type": "code",
   "execution_count": 1,
   "metadata": {
    "_cell_guid": "b1076dfc-b9ad-4769-8c92-a6c4dae69d19",
    "_uuid": "8f2839f25d086af736a60e9eeb907d3b93b6e0e5",
    "jupyter": {
     "outputs_hidden": true
    }
   },
   "outputs": [],
   "source": [
    "%matplotlib inline\n",
    "from glob import glob\n",
    "import os\n",
    "import pandas as pd\n",
    "import matplotlib.pyplot as plt\n",
    "import numpy as np\n",
    "import json"
   ]
  },
  {
   "cell_type": "code",
   "execution_count": null,
   "metadata": {
    "_cell_guid": "79c7e3d0-c299-4dcb-8224-4455121ee9b0",
    "_uuid": "d629ff2d2480ee46fbb7e2d37f6b5fab8052498a"
   },
   "outputs": [],
   "source": [
    "from collections import defaultdict\n",
    "base_json = 'Entity Recognition in Resumes.json/Entity Recognition in Resumes.json'\n",
    "def pop_annot(raw_line):\n",
    "    in_line = defaultdict(list, **raw_line)\n",
    "    if 'annotation' in in_line:\n",
    "        labels = in_line['annotation']\n",
    "        for c_lab in labels:\n",
    "            if len(c_lab['label'])>0:\n",
    "                in_line[c_lab['label'][0]] += c_lab['points']\n",
    "    return in_line\n",
    "with open(base_json, 'r') as f:\n",
    "    # data is jsonl and so we parse it line-by-line\n",
    "    resume_data = [json.loads(f_line) for f_line in f.readlines()]\n",
    "    resume_df = pd.DataFrame([pop_annot(line) for line in resume_data])\n",
    "resume_df['length'] = resume_df['content'].map(len)\n",
    "resume_df['length'].hist()\n",
    "resume_df.sample(3)"
   ]
  },
  {
   "cell_type": "markdown",
   "metadata": {
    "_uuid": "4948cd674811871071e6902ac12b8997128d0440"
   },
   "source": [
    "# Just focus on any highlighted material\n",
    "Try to find all the highlights"
   ]
  },
  {
   "cell_type": "code",
   "execution_count": null,
   "metadata": {
    "_uuid": "0f4fb781f92a49bf604f6c8a24c56ba065940f33"
   },
   "outputs": [],
   "source": [
    "def extract_higlights(raw_line):\n",
    "    in_line = defaultdict(list, **raw_line)\n",
    "    if 'annotation' in in_line:\n",
    "        labels = in_line['annotation']\n",
    "        for c_lab in labels:\n",
    "            if len(c_lab['label'])>0:\n",
    "                in_line['highlight'] += [dict(category = c_lab['label'][0], **cpts) for cpts in c_lab['points']]\n",
    "    return in_line\n",
    "resume_hl_df = pd.DataFrame([extract_higlights(line) for line in resume_data])\n",
    "resume_hl_df['length'] = resume_hl_df['content'].map(len)\n",
    "resume_hl_df['length'].hist()\n",
    "resume_hl_df.sample(3)"
   ]
  },
  {
   "cell_type": "code",
   "execution_count": null,
   "metadata": {
    "_uuid": "f112b2d67ff099f0d2f31b59a0383b7576bc2c6b"
   },
   "outputs": [],
   "source": [
    "from string import ascii_lowercase, digits\n",
    "valid_chars = ascii_lowercase+digits+'@., '\n",
    "focus_col = 'highlight'\n",
    "focus_df = resume_hl_df[['content', focus_col, 'length']].copy().dropna()\n",
    "# clean up the text but maintain the length\n",
    "focus_df['kosher_content'] = resume_df['content'].str.lower().map(lambda c_text: ''.join([c if c in valid_chars else ' ' for c in c_text]))\n",
    "print(focus_col, 'with', focus_df.shape[0], 'complete results')\n",
    "print('First result')\n",
    "for _, c_row in focus_df.query('length<2000').sample(1, random_state = 20).iterrows():\n",
    "    print(len(c_row['content']))\n",
    "    for yoe in c_row[focus_col]:\n",
    "        s,e = yoe['start'], yoe['end']\n",
    "        print(yoe)\n",
    "        print(c_row['content'][s:e+1])"
   ]
  },
  {
   "cell_type": "code",
   "execution_count": null,
   "metadata": {
    "_uuid": "ee20fca3e34a771856fc9c95cb24e44acaa3bf74",
    "collapsed": true,
    "jupyter": {
     "outputs_hidden": true
    }
   },
   "outputs": [],
   "source": [
    "def result_to_vec(in_row, focus_col):\n",
    "    let_vec = in_row['kosher_content']\n",
    "    attn_vec = np.zeros((len(let_vec)))\n",
    "    for yoe in c_row[focus_col]:\n",
    "        s,e = yoe['start'], yoe['end']\n",
    "        attn_vec[s:e+1] = 1.0\n",
    "    return let_vec, attn_vec"
   ]
  },
  {
   "cell_type": "code",
   "execution_count": null,
   "metadata": {
    "_uuid": "2ee330d1de8a3851c98ccac2430540929095f653"
   },
   "outputs": [],
   "source": [
    "x_vec, y_vec = result_to_vec(c_row, focus_col)\n",
    "loc_show = np.where(y_vec)[0][0]\n",
    "fig, ax1 = plt.subplots(1, 1, figsize = (30, 2))\n",
    "ax1.plot(y_vec[loc_show:(loc_show+200)])\n",
    "ax1.set_xlabel('Letter')\n",
    "ax1.set_ylabel('Attention')\n",
    "ax1.set_xticks(range(200))\n",
    "ax1.set_xticklabels(x_vec[loc_show:(loc_show+200)]);"
   ]
  },
  {
   "cell_type": "markdown",
   "metadata": {
    "_uuid": "997fee517fdef5f48cca255cf9cc8cab17ef91a6"
   },
   "source": [
    "# Make two groups\n",
    "Split the data up a bit just to keep us honest"
   ]
  },
  {
   "cell_type": "code",
   "execution_count": null,
   "metadata": {
    "_uuid": "362f5be0fb0135fe5770d44f4b90fe4a7f042418"
   },
   "outputs": [],
   "source": [
    "from sklearn.model_selection import train_test_split\n",
    "train_df, valid_df = train_test_split(focus_df, test_size = 0.2)\n",
    "print(train_df.shape, valid_df.shape)"
   ]
  },
  {
   "cell_type": "code",
   "execution_count": null,
   "metadata": {
    "_uuid": "f3586605688644e45dd44023a775e22b30bdbdee",
    "collapsed": true,
    "jupyter": {
     "outputs_hidden": true
    }
   },
   "outputs": [],
   "source": [
    "from sklearn.feature_extraction.text import CountVectorizer\n",
    "feat_cv = CountVectorizer(analyzer='char') # too complicated\n",
    "from sklearn.preprocessing import LabelEncoder"
   ]
  },
  {
   "cell_type": "code",
   "execution_count": null,
   "metadata": {
    "_uuid": "8889ce3eda38dbc211f5803105b00a7a5327698e"
   },
   "outputs": [],
   "source": [
    "let_enc = LabelEncoder()\n",
    "let_enc.fit_transform(list(valid_chars))\n",
    "print(let_enc.classes_.shape)"
   ]
  },
  {
   "cell_type": "code",
   "execution_count": null,
   "metadata": {
    "_uuid": "862983386fe3671638e86c0ca34a281fcac4282f",
    "collapsed": true,
    "jupyter": {
     "outputs_hidden": true
    }
   },
   "outputs": [],
   "source": [
    "def result_to_fvec(in_row, focus_col):\n",
    "    let_vec = in_row['kosher_content']\n",
    "    attn_vec = np.zeros((len(let_vec)))\n",
    "    flet_vec = let_enc.transform(list(let_vec))\n",
    "    for yoe in c_row[focus_col]:\n",
    "        s,e = yoe['start'], yoe['end']\n",
    "        attn_vec[s:e+1] = 1.0\n",
    "    return let_vec, flet_vec, attn_vec"
   ]
  },
  {
   "cell_type": "code",
   "execution_count": null,
   "metadata": {
    "_uuid": "cb72d4146ec14739130d185e4e2c92e1b272a3b1"
   },
   "outputs": [],
   "source": [
    "x_vec, fx_vec, y_vec = result_to_fvec(c_row, focus_col)\n",
    "\n",
    "fig, (ax1, ax2) = plt.subplots(1, 2, figsize = (30, 6))\n",
    "ax1.plot(y_vec[:200])\n",
    "ax1.set_xlabel('Letter')\n",
    "ax1.set_ylabel('Attention')\n",
    "ax1.set_xticks(range(200))\n",
    "ax1.set_xticklabels(x_vec[:200]);\n",
    "for t_val in [0, 1]:\n",
    "    ax2.plot((fx_vec*(y_vec==t_val))[:200], '-', label = 'Attention {}'.format(t_val))"
   ]
  },
  {
   "cell_type": "code",
   "execution_count": null,
   "metadata": {
    "_uuid": "b5b2e20120afb8df3e92ac5daf73042ef0124417"
   },
   "outputs": [],
   "source": [
    "from keras.preprocessing.sequence import pad_sequences\n",
    "from scipy.ndimage import convolve1d \n",
    "def package_df(in_df, minichunk_size = None, minichunk_upsampler = 10):\n",
    "    train_x, train_y = [], []\n",
    "    for _, c_row in in_df.iterrows():\n",
    "        _, fx_vec, y_vec = result_to_fvec(c_row, focus_col)\n",
    "        smooth_y_vec = convolve1d(y_vec.astype(np.float32), np.ones((10,))/5)\n",
    "        if minichunk_size is not None:\n",
    "            sample_count = fx_vec.shape[0]//minichunk_size*minichunk_upsampler//2\n",
    "            # normal samples\n",
    "            for s_idx in np.random.choice(range(fx_vec.shape[0]-minichunk_size), sample_count):\n",
    "                train_x += [fx_vec[s_idx:(s_idx+minichunk_size)]]\n",
    "                train_y += [np.expand_dims(smooth_y_vec[s_idx:(s_idx+minichunk_size)], -1)]\n",
    "            # positive samples\n",
    "            pos_sample_vec = convolve1d(y_vec.astype(np.float32), np.ones((32,)))\n",
    "            pos_idx = np.where(pos_sample_vec>0)[0]\n",
    "            if len(pos_idx)>0:\n",
    "                for s_idx in np.random.choice(pos_idx, sample_count):\n",
    "                    train_x += [fx_vec[s_idx:(s_idx+minichunk_size)]]\n",
    "                    train_y += [np.expand_dims(smooth_y_vec[s_idx:(s_idx+minichunk_size)], -1)]\n",
    "        else:\n",
    "            train_x += [fx_vec]\n",
    "            train_y += [np.expand_dims(y_vec, -1)]\n",
    "    return pad_sequences(train_x), pad_sequences(train_y)\n",
    "train_x, train_y = package_df(train_df.query('length>256'), minichunk_size = 256)\n",
    "print(train_x.shape, train_y.shape)\n",
    "valid_x, valid_y = package_df(valid_df)\n",
    "print(valid_x.shape, valid_y.shape)"
   ]
  },
  {
   "cell_type": "code",
   "execution_count": null,
   "metadata": {
    "_uuid": "1fafba6361c11c946282fd9935f518ec66c0a2e3"
   },
   "outputs": [],
   "source": [
    "fig, ax1 = plt.subplots(1, 1, figsize = (8, 15))\n",
    "ax1.matshow(train_y[:, :, 0])\n",
    "ax1.set_aspect(.10)"
   ]
  },
  {
   "cell_type": "markdown",
   "metadata": {
    "_uuid": "6ad0f17017ec4b40894902618088eb9cec51282d"
   },
   "source": [
    "# Try an LSTM\n",
    "Here we use a simple bidirectional LSTM to try and extract the attention in a very simple manner (a real fit would require significantly more preprocessing)"
   ]
  },
  {
   "cell_type": "code",
   "execution_count": null,
   "metadata": {
    "_uuid": "9f7b1e5eb15bca63a87d9c1b111a04ac34a3e622"
   },
   "outputs": [],
   "source": [
    "from keras.models import Sequential\n",
    "from keras.layers import Embedding, Bidirectional, LSTM, Conv1D, SpatialDropout1D, ZeroPadding1D\n",
    "from keras.layers import CuDNNLSTM as LSTM                         \n",
    "simple_model = Sequential()\n",
    "simple_model.add(Embedding(input_dim=let_enc.classes_.shape[0]+1, \n",
    "                           output_dim=16))\n",
    "simple_model.add(SpatialDropout1D(0.25, name='DropLetters'))\n",
    "simple_model.add(Conv1D(32, kernel_size=(5,), activation='relu', padding='valid', name = 'BigramCreation'))\n",
    "simple_model.add(Conv1D(32, kernel_size=(3,), activation='relu', padding='valid', name = 'TrigramCreation'))\n",
    "simple_model.add(Conv1D(64, kernel_size=(3,), activation='relu', padding='valid'))\n",
    "simple_model.add(SpatialDropout1D(0.5, name='DropGrams'))\n",
    "simple_model.add(Conv1D(128, kernel_size=(3,), dilation_rate = 2, activation='relu', padding='same'))\n",
    "simple_model.add(Conv1D(128, kernel_size=(3,), dilation_rate = 4, activation='relu', padding='same'))\n",
    "simple_model.add(Conv1D(128, kernel_size=(3,), dilation_rate = 6, activation='relu', padding='same'))\n",
    "#simple_model.add(Bidirectional(LSTM(64, return_sequences=True)))\n",
    "#simple_model.add(SpatialDropout1D(0.25))\n",
    "#simple_model.add(Bidirectional(LSTM(32, return_sequences=True)))\n",
    "simple_model.add(Conv1D(1, kernel_size=(1,), activation='sigmoid'))\n",
    "simple_model.add(ZeroPadding1D((4, 4), name = 'CorrectForConv1Ds'))\n",
    "simple_model.summary()"
   ]
  },
  {
   "cell_type": "code",
   "execution_count": null,
   "metadata": {
    "_uuid": "da65b92c4dafd413d419fe2a1b12677af967d924"
   },
   "outputs": [],
   "source": [
    "simple_model.predict(train_x[0:1]).shape"
   ]
  },
  {
   "cell_type": "code",
   "execution_count": null,
   "metadata": {
    "_uuid": "70f15964abd9d419e20c66f62e9bd7634f4bcd33",
    "collapsed": true,
    "jupyter": {
     "outputs_hidden": true
    }
   },
   "outputs": [],
   "source": [
    "import keras.backend as K\n",
    "from keras.optimizers import Adam\n",
    "from keras.losses import binary_crossentropy\n",
    "\n",
    "def dice_coef_1d(y_true, y_pred, smooth=1):\n",
    "    intersection = K.sum(y_true * y_pred, axis=[1,2])\n",
    "    union = K.sum(y_true, axis=[1,2]) + K.sum(y_pred, axis=[1,2])\n",
    "    return K.mean( (2. * intersection + smooth) / (union + smooth), axis=0)\n",
    "def dice_p_bce(in_gt, in_pred):\n",
    "    \"\"\"combine DICE and BCE\"\"\"\n",
    "    return 0.5*binary_crossentropy(in_gt, in_pred) - dice_coef_1d(in_gt, in_pred)\n",
    "def true_positive_rate(y_true, y_pred):\n",
    "    return K.sum(K.flatten(y_true)*K.flatten(K.round(y_pred)))/K.sum(y_true)\n",
    "simple_model.compile(optimizer=Adam(1e-4, decay=1e-6), loss=dice_p_bce, metrics=[dice_coef_1d, \n",
    "                                                                                 'binary_crossentropy', \n",
    "                                                                                 'binary_accuracy', \n",
    "                                                                                 true_positive_rate])"
   ]
  },
  {
   "cell_type": "code",
   "execution_count": null,
   "metadata": {
    "_uuid": "8ba5fd364dff870959a14adb1a39283827486701",
    "collapsed": true,
    "jupyter": {
     "outputs_hidden": true
    }
   },
   "outputs": [],
   "source": [
    "from keras.callbacks import EarlyStopping, ReduceLROnPlateau, ModelCheckpoint\n",
    "callbacks = [\n",
    "    EarlyStopping(patience=5, verbose=1),\n",
    "    ReduceLROnPlateau(patience=3, verbose=1),\n",
    "    ModelCheckpoint('resume_attention.h5', verbose=1, save_best_only=True, save_weights_only=True)\n",
    "]"
   ]
  },
  {
   "cell_type": "code",
   "execution_count": null,
   "metadata": {
    "_uuid": "c89e004b4ef4876ff0fc78c849042abef79256ab"
   },
   "outputs": [],
   "source": [
    "batch_size = 512\n",
    "results = simple_model.fit(\n",
    "    train_x, train_y,\n",
    "    epochs = 20, \n",
    "    batch_size = 256,\n",
    "    validation_data = (valid_x, valid_y),\n",
    "    shuffle = True,\n",
    "    callbacks=callbacks)"
   ]
  },
  {
   "cell_type": "code",
   "execution_count": null,
   "metadata": {
    "_uuid": "eee1320c3300419d373f4a660e048017c8d920c0"
   },
   "outputs": [],
   "source": [
    "for _, c_row in focus_df.query('length<2000').sample(1, random_state = 20).iterrows():\n",
    "    x_vec, fx_vec, y_vec = result_to_fvec(c_row, focus_col)\n",
    "\n",
    "loc_show = np.where(y_vec)[0][0]\n",
    "fig, (ax1) = plt.subplots(1, 1, figsize = (30, 3))\n",
    "p_vec = simple_model.predict(np.expand_dims(fx_vec, 0))[0]\n",
    "ax1.plot(y_vec[loc_show:(loc_show+200)], label = 'Ground Truth')\n",
    "ax1.plot(p_vec[loc_show:(loc_show+200)], label = 'Prediction')\n",
    "ax1.set_xlabel('Letter')\n",
    "ax1.set_ylabel('Attention')\n",
    "ax1.set_xticks(range(200))\n",
    "ax1.set_xticklabels(x_vec[loc_show:(loc_show+200)]);"
   ]
  },
  {
   "cell_type": "markdown",
   "metadata": {
    "_uuid": "38ae1ad7fe8941ab2c9db71f2a19b56330c6c9fc"
   },
   "source": [
    "## Use longer sequences"
   ]
  },
  {
   "cell_type": "code",
   "execution_count": null,
   "metadata": {
    "_uuid": "c5d2c024d4020f42016213dd80c615b09d4b7709",
    "collapsed": true,
    "jupyter": {
     "outputs_hidden": true
    }
   },
   "outputs": [],
   "source": [
    "simple_model.load_weights('resume_attention.h5')"
   ]
  },
  {
   "cell_type": "code",
   "execution_count": null,
   "metadata": {
    "_uuid": "00afde5c4e452e23f19a7c6d47e41fdd822dd135"
   },
   "outputs": [],
   "source": [
    "train_x, train_y = package_df(train_df.query('length>1024'), minichunk_size = 1024)\n",
    "print(train_x.shape, train_y.shape)\n",
    "callbacks = [\n",
    "    EarlyStopping(patience=5, verbose=1),\n",
    "    ReduceLROnPlateau(patience=3, verbose=1),\n",
    "    ModelCheckpoint('resume_attention.h5', verbose=1, save_best_only=True, save_weights_only=True)\n",
    "]\n",
    "results = simple_model.fit(\n",
    "    train_x, train_y,\n",
    "    epochs = 10, \n",
    "    batch_size = 64,\n",
    "    validation_data = (valid_x, valid_y),\n",
    "    shuffle = True,\n",
    "    callbacks=callbacks)"
   ]
  },
  {
   "cell_type": "code",
   "execution_count": null,
   "metadata": {
    "_uuid": "613520f09fcd71ef979acde09e2a97c71ac8b8f7",
    "collapsed": true,
    "jupyter": {
     "outputs_hidden": true
    }
   },
   "outputs": [],
   "source": [
    "simple_model.load_weights('resume_attention.h5')"
   ]
  },
  {
   "cell_type": "code",
   "execution_count": null,
   "metadata": {
    "_uuid": "5f0a0981e3228208b3e40edf64e9dc5369be633a"
   },
   "outputs": [],
   "source": [
    "for _, c_row in focus_df.query('length<2000').sample(1, random_state = 20).iterrows():\n",
    "    x_vec, fx_vec, y_vec = result_to_fvec(c_row, focus_col)\n",
    "\n",
    "loc_show = np.where(y_vec)[0][0]\n",
    "fig, (ax1) = plt.subplots(1, 1, figsize = (30, 3))\n",
    "p_vec = simple_model.predict(np.expand_dims(fx_vec, 0))[0]\n",
    "ax1.plot(y_vec[loc_show:(loc_show+200)], label = 'Ground Truth')\n",
    "ax1.plot(p_vec[loc_show:(loc_show+200)], label = 'Prediction')\n",
    "ax1.set_xlabel('Letter')\n",
    "ax1.set_ylabel('Attention')\n",
    "ax1.set_xticks(range(200))\n",
    "ax1.set_xticklabels(x_vec[loc_show:(loc_show+200)]);"
   ]
  },
  {
   "cell_type": "code",
   "execution_count": null,
   "metadata": {
    "_uuid": "f739309f2438b8e19d36d7414a3ace10076dac7f"
   },
   "outputs": [],
   "source": [
    "fig, (ax1, ax2) = plt.subplots(1, 2)\n",
    "ax1.plot(p_vec)\n",
    "ax2.hist(p_vec)"
   ]
  },
  {
   "cell_type": "code",
   "execution_count": null,
   "metadata": {
    "_uuid": "a53574d90b0afeab8bf6314cf3453d35ca1c3817",
    "collapsed": true,
    "jupyter": {
     "outputs_hidden": true
    }
   },
   "outputs": [],
   "source": []
  }
 ],
 "metadata": {
  "kernelspec": {
   "display_name": "Python 3 (ipykernel)",
   "language": "python",
   "name": "python3"
  },
  "language_info": {
   "codemirror_mode": {
    "name": "ipython",
    "version": 3
   },
   "file_extension": ".py",
   "mimetype": "text/x-python",
   "name": "python",
   "nbconvert_exporter": "python",
   "pygments_lexer": "ipython3",
   "version": "3.10.6"
  }
 },
 "nbformat": 4,
 "nbformat_minor": 4
}
