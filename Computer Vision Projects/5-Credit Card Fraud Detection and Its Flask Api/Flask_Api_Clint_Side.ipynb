{
 "cells": [
  {
   "cell_type": "code",
   "execution_count": 3,
   "id": "582b219f",
   "metadata": {},
   "outputs": [],
   "source": [
    "# import requests\n",
    "# import json\n",
    "\n",
    "# # Define the URL for the Flask app\n",
    "# url = 'http://localhost:5000/predict_fraud'\n",
    "\n",
    "# # Define the input data as a dictionary\n",
    "# input_data = {\n",
    "#     'Time': 80734,\n",
    "#     'V1': -1.432435,\n",
    "#     'V2': 3.648215,\n",
    "#     'V3': -6.168328,\n",
    "#     'V4': 6.808031,\n",
    "#     'V5': -3.416781,\n",
    "#     'V6': -1.554978,\n",
    "#     'V7': -2.293727,\n",
    "#     'V8': 0.354851,\n",
    "#     'V9': -1.581764,\n",
    "#     'V10': -3.994002,\n",
    "#     'V11': 1.313978,\n",
    "#     'V12': -4.552160,\n",
    "#     'V13': -1.026770,\n",
    "#     'V14': -5.099390,\n",
    "#     'V15': -0.179708,\n",
    "#     'V16': -1.046976,\n",
    "#     'V17': -3.199626,\n",
    "#     'V18': -1.464139,\n",
    "#     'V19': 0.717002,\n",
    "#     'V20': -0.314294,\n",
    "#     'V21': 0.219036,\n",
    "#     'V22': -0.058654,\n",
    "#     'V23': 0.295745,\n",
    "#     'V24': -0.712649,\n",
    "#     'V25': 0.210660,\n",
    "#     'V26': 0.543949,\n",
    "#     'V27': -0.032732,\n",
    "#     'V28': -0.153379,\n",
    "#     'Amount': 169.99\n",
    "# }\n",
    "\n",
    "# # Convert the input data to JSON format\n",
    "# input_data_json = json.dumps(input_data)\n",
    "\n",
    "# # Send a POST request to the Flask app with the input data\n",
    "# response = requests.post(url, data=input_data_json)\n",
    "\n",
    "# # Print the prediction result\n",
    "# print(response.json())\n"
   ]
  },
  {
   "cell_type": "code",
   "execution_count": 2,
   "id": "93a01a36",
   "metadata": {},
   "outputs": [
    {
     "name": "stdout",
     "output_type": "stream",
     "text": [
      "Prediction: Fraud\n"
     ]
    }
   ],
   "source": [
    "import requests\n",
    "\n",
    "api_url = \"http://127.0.0.1:5000/\"\n",
    "data = {\"Time\": 5.0,\n",
    "        \"0\": -2.791854766, \"1\": -0.327770757, \"2\": 1.641750161, \"3\": 1.767472744,\n",
    "        \"4\": -2.094010573, \"5\": 1.151086988, \"6\": 0.651583206, \"7\": 0.708380406,\n",
    "        \"8\": 0.651583206, \"9\": 4.5765764654, \"10\": 1.23308974, \"11\": 0.708380406,\n",
    "        \"12\": 0.499360806, \"13\": 1.151086988, \"14\": 1.151086988, \"15\": 1.151086988,\n",
    "        \"16\": 1.23308974, \"17\": 1.23308974, \"18\": -2.791854766, \"19\": 1.767472744,\n",
    "        \"20\": 1.767472744, \"21\": 0.708380406, \"22\": 1.767472744, \"23\": 0.708380406,\n",
    "        \"24\": -2.791854766, \"25\": -2.094010573, \"26\": 1.151086988, \"27\": -2.791854766,\n",
    "        \"Amount\": 239.93\n",
    "       }\n",
    "\n",
    "response = requests.post(api_url, json=data)\n",
    "\n",
    "print(response.text)"
   ]
  },
  {
   "cell_type": "code",
   "execution_count": null,
   "id": "ebf6ba57",
   "metadata": {},
   "outputs": [],
   "source": []
  }
 ],
 "metadata": {
  "kernelspec": {
   "display_name": "Python 3 (ipykernel)",
   "language": "python",
   "name": "python3"
  },
  "language_info": {
   "codemirror_mode": {
    "name": "ipython",
    "version": 3
   },
   "file_extension": ".py",
   "mimetype": "text/x-python",
   "name": "python",
   "nbconvert_exporter": "python",
   "pygments_lexer": "ipython3",
   "version": "3.10.6"
  }
 },
 "nbformat": 4,
 "nbformat_minor": 5
}
