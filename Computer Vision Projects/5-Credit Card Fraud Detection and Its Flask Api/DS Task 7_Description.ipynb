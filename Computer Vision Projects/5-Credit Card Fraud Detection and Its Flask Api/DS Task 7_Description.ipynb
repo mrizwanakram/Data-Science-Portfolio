{
 "cells": [
  {
   "cell_type": "markdown",
   "id": "2da78a96",
   "metadata": {},
   "source": [
    "### Day 33 (Thursday 30 Mar 2023): DS Task 7 - Fraud Detection\n",
    "\n",
    "1) Fraud Detection in Financial Transactions\n",
    "\n",
    "* You have been provided with a dataset of financial transactions, including information such as the transaction amount, location, and type of transaction. The goal is to build a machine learning model that can detect fraudulent transactions in the dataset.\n",
    "\n",
    "https://www.kaggle.com/datasets/mlg-ulb/creditcardfraud\n",
    "\n",
    "2) Create Flask API\n",
    "\n",
    "3) Create Docker\n",
    "\n",
    "4) README including Accuracy Report\n",
    "_______________________________________________________"
   ]
  },
  {
   "cell_type": "code",
   "execution_count": null,
   "id": "1feacf75",
   "metadata": {},
   "outputs": [],
   "source": []
  }
 ],
 "metadata": {
  "kernelspec": {
   "display_name": "Python 3 (ipykernel)",
   "language": "python",
   "name": "python3"
  },
  "language_info": {
   "codemirror_mode": {
    "name": "ipython",
    "version": 3
   },
   "file_extension": ".py",
   "mimetype": "text/x-python",
   "name": "python",
   "nbconvert_exporter": "python",
   "pygments_lexer": "ipython3",
   "version": "3.10.6"
  }
 },
 "nbformat": 4,
 "nbformat_minor": 5
}
