{
 "cells": [
  {
   "cell_type": "code",
   "execution_count": 1,
   "id": "009eabb5",
   "metadata": {},
   "outputs": [],
   "source": [
    "\n",
    "\n",
    "# # Load the trained model\n",
    "# clf = joblib.load('credit_card_fraud_detection_model.joblib')\n",
    "\n",
    "# app = Flask(__name__)\n",
    "\n",
    "# # Define a route for predicting fraud\n",
    "# @app.route('/creditcard.csv', methods=['POST'])\n",
    "# def predict_fraud():\n",
    "#     # Get the JSON request from the client\n",
    "#     req = request.get_json()\n",
    "\n",
    "#     # Convert the request into a Pandas DataFrame\n",
    "#     df = pd.DataFrame.from_dict(req)\n",
    "\n",
    "#     # Use the trained model to make a prediction on the DataFrame\n",
    "#     prediction = clf.predict(df)\n",
    "\n",
    "#     # Return the prediction as a JSON response to the client\n",
    "#     return jsonify({'prediction': list(prediction)})\n",
    "\n",
    "# if __name__ == '__main__':\n",
    "#     app.run(debug=True)\n"
   ]
  },
  {
   "cell_type": "code",
   "execution_count": 3,
   "id": "bf16ca35",
   "metadata": {},
   "outputs": [
    {
     "name": "stdout",
     "output_type": "stream",
     "text": [
      " * Serving Flask app '__main__'\n",
      " * Debug mode: off\n"
     ]
    },
    {
     "name": "stderr",
     "output_type": "stream",
     "text": [
      "\u001b[31m\u001b[1mWARNING: This is a development server. Do not use it in a production deployment. Use a production WSGI server instead.\u001b[0m\n",
      " * Running on all addresses (0.0.0.0)\n",
      " * Running on http://127.0.0.1:5000\n",
      " * Running on http://172.16.10.143:5000\n",
      "\u001b[33mPress CTRL+C to quit\u001b[0m\n",
      "[Parallel(n_jobs=1)]: Using backend SequentialBackend with 1 concurrent workers.\n",
      "[Parallel(n_jobs=1)]: Done   1 out of   1 | elapsed:    0.0s remaining:    0.0s\n",
      "[Parallel(n_jobs=1)]: Done   2 out of   2 | elapsed:    0.0s remaining:    0.0s\n",
      "[Parallel(n_jobs=1)]: Done 200 out of 200 | elapsed:    0.1s finished\n",
      "127.0.0.1 - - [03/Apr/2023 14:46:41] \"POST / HTTP/1.1\" 200 -\n"
     ]
    }
   ],
   "source": [
    "from flask import Flask, request, jsonify\n",
    "import os\n",
    "import random\n",
    "import numpy as np\n",
    "import pickle as pkl\n",
    "import pandas as pd\n",
    "from sklearn.preprocessing import MinMaxScaler\n",
    "app = Flask(__name__)\n",
    "\n",
    "\n",
    "with open(\"./rf_model.pkl\", 'rb') as file:\n",
    "    model = pkl.load(file)\n",
    "\n",
    "def get_Prediction(labels):\n",
    "    df = pd.DataFrame([labels])\n",
    "    final_df = preprocess(df)\n",
    "    result = model.predict(final_df)\n",
    "    return result[0]\n",
    "\n",
    "def preprocess(df):\n",
    "    scale = MinMaxScaler()\n",
    "    X = df.iloc[:, 1:29]\n",
    "    scaledX = scale.fit_transform(X)\n",
    "    df1 = pd.DataFrame(scaledX)\n",
    "    df2 = df[['Time']]\n",
    "    df3 = df[['Amount']]\n",
    "    final_df = pd.concat([df2, df1, df3], axis=1)\n",
    "    final_df.columns = final_df.columns.astype(str)\n",
    "    return final_df\n",
    "    \n",
    "def check(index):\n",
    "    if index == \"0\":\n",
    "        return \"No Fraud\"\n",
    "    else:\n",
    "        return \"Fraud\"\n",
    "\n",
    "app = Flask(__name__)\n",
    "@app.route('/', methods=['POST'])\n",
    "def predict():\n",
    "    data = request.json\n",
    "    r = check(get_Prediction(data))\n",
    "    return f\"Prediction: {r}\"\n",
    "\n",
    "app.run(host='0.0.0.0', port=5000)\n"
   ]
  },
  {
   "cell_type": "code",
   "execution_count": null,
   "id": "d5b38be6",
   "metadata": {},
   "outputs": [],
   "source": []
  }
 ],
 "metadata": {
  "kernelspec": {
   "display_name": "Python 3 (ipykernel)",
   "language": "python",
   "name": "python3"
  },
  "language_info": {
   "codemirror_mode": {
    "name": "ipython",
    "version": 3
   },
   "file_extension": ".py",
   "mimetype": "text/x-python",
   "name": "python",
   "nbconvert_exporter": "python",
   "pygments_lexer": "ipython3",
   "version": "3.10.6"
  }
 },
 "nbformat": 4,
 "nbformat_minor": 5
}
