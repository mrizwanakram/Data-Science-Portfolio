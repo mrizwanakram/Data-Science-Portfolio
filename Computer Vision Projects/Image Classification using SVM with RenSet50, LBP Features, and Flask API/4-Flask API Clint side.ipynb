{
 "cells": [
  {
   "cell_type": "code",
   "execution_count": 1,
   "id": "8b7248f0",
   "metadata": {},
   "outputs": [
    {
     "name": "stdout",
     "output_type": "stream",
     "text": [
      "{'prediction': 'shoe', 'processing_time': '4.8487982749938965'}\n",
      "{'prediction': 'shoe', 'processing_time': '4.862428188323975'}\n"
     ]
    }
   ],
   "source": [
    "import requests\n",
    "import json\n",
    "import base64\n",
    "import threading\n",
    "import time\n",
    "\n",
    "def image_to_base64(image_path):\n",
    "    with open(image_path, 'rb') as f:\n",
    "        return base64.b64encode(f.read()).decode('utf-8')\n",
    "\n",
    "url = 'http://localhost:5000/predict'\n",
    "im_paths_list = ['images (1).jfif','download.png']\n",
    "\n",
    "\n",
    "headers = {'Content-Type': 'application/json'}\n",
    "\n",
    "def send_request(data):\n",
    "    response = requests.post(url, data=json.dumps(data), headers=headers)\n",
    "    print(response.json())\n",
    "\n",
    "data_args = [{'image': image_to_base64(im_path)} for im_path in im_paths_list]\n",
    "\n",
    "\n",
    "threads_list = []\n",
    "for data in data_args[:]:\n",
    "    t = threading.Thread(target=send_request, args=(data,))\n",
    "    threads_list += [t]\n",
    "    t.start()\n",
    "\n",
    "# for t in threads_list:\n",
    "#     t.join()"
   ]
  },
  {
   "cell_type": "code",
   "execution_count": null,
   "id": "4e8e93b0",
   "metadata": {},
   "outputs": [],
   "source": []
  }
 ],
 "metadata": {
  "kernelspec": {
   "display_name": "Python 3 (ipykernel)",
   "language": "python",
   "name": "python3"
  },
  "language_info": {
   "codemirror_mode": {
    "name": "ipython",
    "version": 3
   },
   "file_extension": ".py",
   "mimetype": "text/x-python",
   "name": "python",
   "nbconvert_exporter": "python",
   "pygments_lexer": "ipython3",
   "version": "3.10.6"
  }
 },
 "nbformat": 4,
 "nbformat_minor": 5
}
