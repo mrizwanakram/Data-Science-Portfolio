{
 "cells": [
  {
   "cell_type": "code",
   "execution_count": 1,
   "id": "1aae2747",
   "metadata": {},
   "outputs": [
    {
     "name": "stderr",
     "output_type": "stream",
     "text": [
      "2023-05-08 12:39:16.788800: I tensorflow/core/platform/cpu_feature_guard.cc:193] This TensorFlow binary is optimized with oneAPI Deep Neural Network Library (oneDNN) to use the following CPU instructions in performance-critical operations:  FMA\n",
      "To enable them in other operations, rebuild TensorFlow with the appropriate compiler flags.\n",
      "2023-05-08 12:39:18.930750: W tensorflow/compiler/xla/stream_executor/platform/default/dso_loader.cc:64] Could not load dynamic library 'libcudart.so.11.0'; dlerror: libcudart.so.11.0: cannot open shared object file: No such file or directory; LD_LIBRARY_PATH: /home/mrizwan/.local/lib/python3.10/site-packages/cv2/../../lib64:\n",
      "2023-05-08 12:39:18.930901: I tensorflow/compiler/xla/stream_executor/cuda/cudart_stub.cc:29] Ignore above cudart dlerror if you do not have a GPU set up on your machine.\n",
      "2023-05-08 12:39:37.111588: W tensorflow/compiler/xla/stream_executor/platform/default/dso_loader.cc:64] Could not load dynamic library 'libnvinfer.so.7'; dlerror: libnvinfer.so.7: cannot open shared object file: No such file or directory; LD_LIBRARY_PATH: /home/mrizwan/.local/lib/python3.10/site-packages/cv2/../../lib64:\n",
      "2023-05-08 12:39:37.113408: W tensorflow/compiler/xla/stream_executor/platform/default/dso_loader.cc:64] Could not load dynamic library 'libnvinfer_plugin.so.7'; dlerror: libnvinfer_plugin.so.7: cannot open shared object file: No such file or directory; LD_LIBRARY_PATH: /home/mrizwan/.local/lib/python3.10/site-packages/cv2/../../lib64:\n",
      "2023-05-08 12:39:37.113514: W tensorflow/compiler/tf2tensorrt/utils/py_utils.cc:38] TF-TRT Warning: Cannot dlopen some TensorRT libraries. If you would like to use Nvidia GPU with TensorRT, please make sure the missing libraries mentioned above are installed properly.\n",
      "2023-05-08 12:40:02.479290: W tensorflow/compiler/xla/stream_executor/platform/default/dso_loader.cc:64] Could not load dynamic library 'libcuda.so.1'; dlerror: libcuda.so.1: cannot open shared object file: No such file or directory; LD_LIBRARY_PATH: /home/mrizwan/.local/lib/python3.10/site-packages/cv2/../../lib64:\n",
      "2023-05-08 12:40:02.479525: W tensorflow/compiler/xla/stream_executor/cuda/cuda_driver.cc:265] failed call to cuInit: UNKNOWN ERROR (303)\n",
      "2023-05-08 12:40:02.479641: I tensorflow/compiler/xla/stream_executor/cuda/cuda_diagnostics.cc:156] kernel driver does not appear to be running on this host (DESKTOP-PV5U7I0): /proc/driver/nvidia/version does not exist\n",
      "2023-05-08 12:40:02.483945: I tensorflow/core/platform/cpu_feature_guard.cc:193] This TensorFlow binary is optimized with oneAPI Deep Neural Network Library (oneDNN) to use the following CPU instructions in performance-critical operations:  FMA\n",
      "To enable them in other operations, rebuild TensorFlow with the appropriate compiler flags.\n"
     ]
    },
    {
     "name": "stdout",
     "output_type": "stream",
     "text": [
      "model loading time: 0.3363955020904541\n",
      " * Serving Flask app '__main__'\n",
      " * Debug mode: off\n"
     ]
    },
    {
     "name": "stderr",
     "output_type": "stream",
     "text": [
      "\u001b[31m\u001b[1mWARNING: This is a development server. Do not use it in a production deployment. Use a production WSGI server instead.\u001b[0m\n",
      " * Running on all addresses (0.0.0.0)\n",
      " * Running on http://127.0.0.1:5000\n",
      " * Running on http://192.168.10.37:5000\n",
      "\u001b[33mPress CTRL+C to quit\u001b[0m\n"
     ]
    },
    {
     "name": "stdout",
     "output_type": "stream",
     "text": [
      "1/1 [==============================] - 4s 4s/step\n",
      "1/1 [==============================] - 5s 5s/step\n"
     ]
    },
    {
     "name": "stderr",
     "output_type": "stream",
     "text": [
      "/home/mrizwan/.local/lib/python3.10/site-packages/skimage/feature/texture.py:353: UserWarning: Applying `local_binary_pattern` to floating-point images may give unexpected results when small numerical differences between adjacent pixels are present. It is recommended to use this function with images of integer dtype.\n",
      "  warnings.warn(\n",
      "127.0.0.1 - - [08/May/2023 12:40:26] \"POST /predict HTTP/1.1\" 200 -\n",
      "127.0.0.1 - - [08/May/2023 12:40:26] \"POST /predict HTTP/1.1\" 200 -\n"
     ]
    }
   ],
   "source": [
    "from flask import Flask, request, jsonify\n",
    "import traceback\n",
    "import base64\n",
    "import cv2\n",
    "import skimage\n",
    "import time\n",
    "import joblib\n",
    "import numpy as np\n",
    "import pickle\n",
    "from io import BytesIO\n",
    "from numpy import argmax\n",
    "from sklearn.preprocessing import StandardScaler\n",
    "\n",
    "from skimage.feature import local_binary_pattern\n",
    "from tensorflow.keras.applications.resnet50 import ResNet50, preprocess_input\n",
    "\n",
    "app = Flask(__name__)\n",
    "scaler=StandardScaler()\n",
    "resnet_model = ResNet50(weights='imagenet', include_top=False, pooling='avg')\n",
    "lbp_radius = 3\n",
    "lbp_n_points = 8 * lbp_radius\n",
    "\n",
    "# Load the SVM model and the scaler\n",
    "s = time.time()\n",
    "with open('model.joblib', 'rb') as f:\n",
    "    svm_model = joblib.load(f)\n",
    "print(\"model loading time:\",time.time()-s)\n",
    "\n",
    "classes = {1:\"boot\", 2:\"sandal\", 3:\"shoe\"}\n",
    "def preprocess_image(img):\n",
    "    img = cv2.cvtColor(img, cv2.COLOR_BGR2RGB)\n",
    "    img = cv2.resize(img, (224, 224))\n",
    "    img = preprocess_input(img)\n",
    "    return img\n",
    "\n",
    "def extract_features(img):\n",
    "    resnet_features = resnet_model.predict(np.expand_dims(img, axis=0))[0]\n",
    "    gray = cv2.cvtColor(img, cv2.COLOR_RGB2GRAY)\n",
    "    lbp = local_binary_pattern(gray, lbp_n_points, lbp_radius, method='uniform')\n",
    "    hist, _ = np.histogram(lbp.ravel(), bins=np.arange(0, lbp_n_points + 3), range=(0, lbp_n_points + 2))\n",
    "    lbp_features = hist / np.sum(hist)\n",
    "    height, width = img.shape[:2]\n",
    "    return np.concatenate((resnet_features, lbp_features, [width, height]))\n",
    "\n",
    "@app.route('/predict', methods=['POST'])\n",
    "def predict():\n",
    "    try:\n",
    "        s = time.time()\n",
    "        image_data = request.json['image']\n",
    "        img_data = base64.b64decode(image_data)\n",
    "        img = cv2.imdecode(np.frombuffer(img_data, dtype=np.uint8), cv2.IMREAD_COLOR)\n",
    "\n",
    "        img = preprocess_image(img)\n",
    "        features = extract_features(img)\n",
    "        features = scaler.fit_transform(features[np.newaxis])  # Scale the features before making predictions\n",
    "\n",
    "        prediction = svm_model.predict(features)\n",
    "#         prediction=argmax(prediction)\n",
    "        return jsonify({\n",
    "            'prediction': classes.get(int(prediction),int(prediction)),\n",
    "            \"processing_time\": str(time.time()-s)\n",
    "        })\n",
    "    except:\n",
    "        return jsonify({\n",
    "            'prediction': str(traceback.format_exec()),\n",
    "            \"processing_time\": 0\n",
    "        })\n",
    "\n",
    "if __name__ == '__main__':\n",
    "    app.run(host='0.0.0.0', port=5000)"
   ]
  },
  {
   "cell_type": "code",
   "execution_count": null,
   "id": "0d7ce950",
   "metadata": {},
   "outputs": [],
   "source": []
  }
 ],
 "metadata": {
  "kernelspec": {
   "display_name": "Python 3 (ipykernel)",
   "language": "python",
   "name": "python3"
  },
  "language_info": {
   "codemirror_mode": {
    "name": "ipython",
    "version": 3
   },
   "file_extension": ".py",
   "mimetype": "text/x-python",
   "name": "python",
   "nbconvert_exporter": "python",
   "pygments_lexer": "ipython3",
   "version": "3.10.6"
  }
 },
 "nbformat": 4,
 "nbformat_minor": 5
}
