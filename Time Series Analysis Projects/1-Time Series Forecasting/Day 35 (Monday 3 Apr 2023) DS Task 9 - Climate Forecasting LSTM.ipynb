{
 "cells": [
  {
   "cell_type": "markdown",
   "id": "691f35a2",
   "metadata": {},
   "source": [
    "### 1) Time Series Forecasting\n",
    "\n",
    "You have been provided with a dataset of time series data, such as stock prices, sales data, or weather data. The goal is to build a deep learning model that can forecast future values of the time series based on past values.\n",
    "\n",
    "https://www.kaggle.com/datasets/sumanthvrao/daily-climate-time-series-data\n",
    "\n",
    "2) Create Flask API\n",
    "\n",
    "3) Create Docker\n",
    "\n",
    "4) README including Accuracy Report"
   ]
  },
  {
   "cell_type": "code",
   "execution_count": null,
   "id": "6ae3d15d",
   "metadata": {},
   "outputs": [],
   "source": []
  }
 ],
 "metadata": {
  "kernelspec": {
   "display_name": "Python 3 (ipykernel)",
   "language": "python",
   "name": "python3"
  },
  "language_info": {
   "codemirror_mode": {
    "name": "ipython",
    "version": 3
   },
   "file_extension": ".py",
   "mimetype": "text/x-python",
   "name": "python",
   "nbconvert_exporter": "python",
   "pygments_lexer": "ipython3",
   "version": "3.10.6"
  }
 },
 "nbformat": 4,
 "nbformat_minor": 5
}
