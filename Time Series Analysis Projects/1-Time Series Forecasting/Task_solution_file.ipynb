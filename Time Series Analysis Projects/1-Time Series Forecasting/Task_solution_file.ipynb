{
 "cells": [
  {
   "cell_type": "markdown",
   "id": "975bd7c3",
   "metadata": {},
   "source": [
    "### 1) Time Series Forecasting\n",
    "\n",
    "You have been provided with a dataset of time series data, such as stock prices, sales data, or weather data. The goal is to build a deep learning model that can forecast future values of the time series based on past values.\n",
    "\n",
    "https://www.kaggle.com/datasets/sumanthvrao/daily-climate-time-series-data\n",
    "\n",
    "2) Create Flask API\n",
    "\n",
    "3) Create Docker\n",
    "\n",
    "4) README including Accuracy Report"
   ]
  },
  {
   "cell_type": "code",
   "execution_count": 1,
   "id": "cd41293c",
   "metadata": {},
   "outputs": [],
   "source": [
    "# # importing the zipfile module\n",
    "# from zipfile import ZipFile\n",
    "\n",
    "# # loading the temp.zip and creating a zip object\n",
    "# with ZipFile('archive (6).zip', 'r') as zObject:\n",
    "\n",
    "# \t# Extracting all the members of the zip\n",
    "# \t# into a specific location.\n",
    "# \tzObject.extractall(\n",
    "# \t\tpath=\"Forcasting_Dataset\")\n"
   ]
  },
  {
   "cell_type": "code",
   "execution_count": 2,
   "id": "eb029b69",
   "metadata": {},
   "outputs": [],
   "source": [
    "import pandas as pd\n",
    "import numpy as np\n",
    "import matplotlib.pyplot as plt\n",
    "import seaborn as sns\n",
    "import plotly.express as px\n",
    "\n",
    "data = pd.read_csv(\"/kaggle/input/daily-climate-time-series-data/DailyDelhiClimateTest.csv\")\n",
    "print(data.head())"
   ]
  },
  {
   "cell_type": "code",
   "execution_count": null,
   "id": "4944abb0",
   "metadata": {},
   "outputs": [],
   "source": []
  },
  {
   "cell_type": "code",
   "execution_count": null,
   "id": "eee6dcbb",
   "metadata": {},
   "outputs": [],
   "source": []
  },
  {
   "cell_type": "code",
   "execution_count": null,
   "id": "46272812",
   "metadata": {},
   "outputs": [],
   "source": []
  },
  {
   "cell_type": "code",
   "execution_count": null,
   "id": "a1bd4f7b",
   "metadata": {},
   "outputs": [],
   "source": []
  },
  {
   "cell_type": "code",
   "execution_count": null,
   "id": "a0f58e54",
   "metadata": {},
   "outputs": [],
   "source": []
  }
 ],
 "metadata": {
  "kernelspec": {
   "display_name": "Python 3 (ipykernel)",
   "language": "python",
   "name": "python3"
  },
  "language_info": {
   "codemirror_mode": {
    "name": "ipython",
    "version": 3
   },
   "file_extension": ".py",
   "mimetype": "text/x-python",
   "name": "python",
   "nbconvert_exporter": "python",
   "pygments_lexer": "ipython3",
   "version": "3.10.6"
  }
 },
 "nbformat": 4,
 "nbformat_minor": 5
}
